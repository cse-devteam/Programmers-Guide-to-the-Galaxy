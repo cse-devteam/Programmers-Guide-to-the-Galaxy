{
 "cells": [
  {
   "cell_type": "markdown",
   "metadata": {},
   "source": [
    "# Python"
   ]
  },
  {
   "cell_type": "markdown",
   "metadata": {},
   "source": [
    "The purpose of this guide is to give you a brief overview of Python and all its core functionality, while allowing you to play with the code and learn. As you go through this guide, edit the code blocks and learn how the code works. A cool part about this page is that you can edit and run code indivudually as you would on a normal IDE. To edit, simply click on the boxes and type - and to run the code, hit Shift and Enter. \n",
    "\n",
    "Some brief overview of Python syntax:\n",
    "\n",
    "Python does not use line-end characters such as `;`, instead ending lines with a newline character.\n",
    "Python does not use `{}` to specify scope, instead using `:` and indentation to denote a change in scope. Use 4 spaces to indent a block of code. Most editors allow you to set the TAB key to enter a number of spaces instead of a tab character. Here is an example of a block of indented Python code:"
   ]
  },
  {
   "cell_type": "code",
   "execution_count": 1,
   "metadata": {},
   "outputs": [
    {
     "name": "stdout",
     "output_type": "stream",
     "text": [
      "0\n",
      "2\n",
      "4\n",
      "6\n",
      "8\n"
     ]
    }
   ],
   "source": [
    "for i in range(10):\n",
    "    if not i % 2:\n",
    "        print(i)"
   ]
  },
  {
   "cell_type": "markdown",
   "metadata": {},
   "source": [
    "# Table of Contents\n",
    "\n",
    "- [Variables](#Variables)\n",
    "    - [Integers](#Integers)\n",
    "    - [Floats](#Floats)\n",
    "    - [Booleans](#Booleans)\n",
    "- [Comments](#Comments)\n",
    "- [Operators](#Operators)\n",
    "    - [Arithmetic Operators](#Arithmetic-Operators)\n",
    "    - [Logical Operators](#Logical-Operators)\n",
    "    - [Comparison Operators](#Comparison-Operators)\n",
    "- [Conditionals](#Conditionals)\n",
    "- [Iterables](#Iterables)\n",
    "    - [Lists](#Lists)\n",
    "    - [Tuples](#Tuples)\n",
    "    - [Strings](#Strings)\n",
    "    - [Loops](#Loops)\n",
    "- [Dictionaries](#Dictionaries)\n",
    "- [Classes](#Classes)\n",
    "- [Modules](#Modules)\n",
    "    - [Built-in Modules](#Built-in-Modules)\n",
    "    - [External-Modules](#External-Modules)\n",
    "- [Other Notes](#Other-Notes)"
   ]
  },
  {
   "cell_type": "markdown",
   "metadata": {},
   "source": [
    "# Variables\n",
    "\n",
    "Python is strongly and dynamically typed, meaning you don't have to specify variable types when declaring variables. Python is smart enough to figure out what type a variable is by how you defined it."
   ]
  },
  {
   "cell_type": "markdown",
   "metadata": {},
   "source": [
    "## Integers\n",
    "\n",
    "Integers are what you would expect them to be... integers. You can define an integer by not specifying a decimal:"
   ]
  },
  {
   "cell_type": "code",
   "execution_count": 2,
   "metadata": {},
   "outputs": [],
   "source": [
    "a = 3"
   ]
  },
  {
   "cell_type": "markdown",
   "metadata": {},
   "source": [
    "## Floats\n",
    "Floats are any number with a decimal. Python doesn't have doubles or longs, just floats. They can also be infinitely large or small (as long as you have enough RAM)!"
   ]
  },
  {
   "cell_type": "code",
   "execution_count": 3,
   "metadata": {},
   "outputs": [],
   "source": [
    "f = 1.4"
   ]
  },
  {
   "cell_type": "markdown",
   "metadata": {},
   "source": [
    "You can cast ints to floats with the `float()` function, or floats to ints with the `int()` function"
   ]
  },
  {
   "cell_type": "code",
   "execution_count": 4,
   "metadata": {},
   "outputs": [
    {
     "name": "stdout",
     "output_type": "stream",
     "text": [
      "2.0\n",
      "2\n"
     ]
    }
   ],
   "source": [
    "i = 2\n",
    "f = float(i)\n",
    "print(f)\n",
    "i = int(f)\n",
    "print(i)"
   ]
  },
  {
   "cell_type": "markdown",
   "metadata": {},
   "source": [
    "## Booleans"
   ]
  },
  {
   "cell_type": "markdown",
   "metadata": {},
   "source": [
    "Booleans are the same as they are in any other language: a true or false value. The only thing that might be new to you is that in Python, True and False are capitalized"
   ]
  },
  {
   "cell_type": "code",
   "execution_count": 5,
   "metadata": {},
   "outputs": [],
   "source": [
    "i_am_true = True\n",
    "i_am_false = False"
   ]
  },
  {
   "cell_type": "markdown",
   "metadata": {},
   "source": [
    "# Comments"
   ]
  },
  {
   "cell_type": "markdown",
   "metadata": {},
   "source": [
    "Comments are defined with the # prefix. Block comments can be done with triple single or double quotes. They're really just strings that don't get assigned to any variable."
   ]
  },
  {
   "cell_type": "code",
   "execution_count": 6,
   "metadata": {},
   "outputs": [
    {
     "data": {
      "text/plain": [
       "'\\nthis is a block comment\\n'"
      ]
     },
     "execution_count": 6,
     "metadata": {},
     "output_type": "execute_result"
    }
   ],
   "source": [
    "# This is a comment\n",
    "\n",
    "'''\n",
    "this is a block comment\n",
    "'''"
   ]
  },
  {
   "cell_type": "markdown",
   "metadata": {},
   "source": [
    "# Operators"
   ]
  },
  {
   "cell_type": "markdown",
   "metadata": {},
   "source": [
    "Like just about every other language, Python has arithmetic, logical, and comparison operators. However, some may be new to you"
   ]
  },
  {
   "cell_type": "markdown",
   "metadata": {},
   "source": [
    "## Arithmetic Operators"
   ]
  },
  {
   "cell_type": "markdown",
   "metadata": {},
   "source": [
    "Python has the following arithmetic operators:\n",
    "\n",
    "```python\n",
    "+   # addition\n",
    "-   # subtraction\n",
    "*   # multiplication\n",
    "/   # division\n",
    "//  # integer division\n",
    "%   # modulo\n",
    "**  # exponentiation\n",
    "```\n",
    "\n",
    "Some things to note:\n",
    "\n",
    "- All of these operators will automatically cast to a float or an int, whichever is relevant. The distinction between an int and float is minimal in Python.\n",
    "- If you divide an int by a float with the / operator, the output will be a float, even if there would be no data loss by casting the denominator to an int.\n",
    "- The ** operator supports floats as the power, so you can use it to do square roots too."
   ]
  },
  {
   "cell_type": "code",
   "execution_count": 7,
   "metadata": {},
   "outputs": [
    {
     "name": "stdout",
     "output_type": "stream",
     "text": [
      "11\n",
      "7\n",
      "18\n",
      "4.5\n",
      "4\n",
      "1\n",
      "81\n"
     ]
    }
   ],
   "source": [
    "print(9 + 2)\n",
    "print(9 - 2)\n",
    "print(9 * 2)\n",
    "print(9 / 2)\n",
    "print(9 // 2)\n",
    "print(9 % 2)\n",
    "print(9 ** 2)"
   ]
  },
  {
   "cell_type": "markdown",
   "metadata": {},
   "source": [
    "Python also supports a few augmented assignment operators (note that as of 3.9.2, Python does not support ++ and --):"
   ]
  },
  {
   "cell_type": "code",
   "execution_count": 8,
   "metadata": {},
   "outputs": [
    {
     "name": "stdout",
     "output_type": "stream",
     "text": [
      "2\n",
      "1\n",
      "10\n",
      "5.0\n"
     ]
    }
   ],
   "source": [
    "a = 1\n",
    "a += 1\n",
    "print(a)\n",
    "a -= 1\n",
    "print(a)\n",
    "a *= 10\n",
    "print(a)\n",
    "a /= 2\n",
    "print(a)"
   ]
  },
  {
   "cell_type": "markdown",
   "metadata": {},
   "source": [
    "## Logical Operators"
   ]
  },
  {
   "cell_type": "markdown",
   "metadata": {},
   "source": [
    "Python has an `and` and `or` operator. They are the same as `&&` and `||`, respectively"
   ]
  },
  {
   "cell_type": "code",
   "execution_count": 9,
   "metadata": {},
   "outputs": [
    {
     "name": "stdout",
     "output_type": "stream",
     "text": [
      "False\n",
      "True\n"
     ]
    }
   ],
   "source": [
    "print(True and False)\n",
    "print(True or False)"
   ]
  },
  {
   "cell_type": "markdown",
   "metadata": {},
   "source": [
    "You can use parenthesis to set an order of operations"
   ]
  },
  {
   "cell_type": "code",
   "execution_count": 10,
   "metadata": {},
   "outputs": [
    {
     "name": "stdout",
     "output_type": "stream",
     "text": [
      "True\n",
      "False\n",
      "True\n",
      "True\n"
     ]
    }
   ],
   "source": [
    "print((True or False) and True)\n",
    "print((True and False) and True)\n",
    "print((True and False) or True)\n",
    "print((True or False) or True)"
   ]
  },
  {
   "cell_type": "markdown",
   "metadata": {},
   "source": [
    "Similar to `!`, there is a `not` operator"
   ]
  },
  {
   "cell_type": "code",
   "execution_count": 11,
   "metadata": {},
   "outputs": [
    {
     "name": "stdout",
     "output_type": "stream",
     "text": [
      "False\n",
      "True\n"
     ]
    }
   ],
   "source": [
    "print(not True)\n",
    "print(not False)"
   ]
  },
  {
   "cell_type": "markdown",
   "metadata": {},
   "source": [
    "## Comparison Operators"
   ]
  },
  {
   "cell_type": "markdown",
   "metadata": {},
   "source": [
    "Python supports all the standard numerical comparison operators"
   ]
  },
  {
   "cell_type": "code",
   "execution_count": 12,
   "metadata": {},
   "outputs": [
    {
     "name": "stdout",
     "output_type": "stream",
     "text": [
      "False\n",
      "True\n",
      "False\n",
      "True\n",
      "False\n",
      "True\n"
     ]
    }
   ],
   "source": [
    "print(1 > 2)\n",
    "print(1 < 2)\n",
    "print(1 >= 2)\n",
    "print(1 <= 2)\n",
    "print(1 == 2)\n",
    "print(1 != 2)"
   ]
  },
  {
   "cell_type": "markdown",
   "metadata": {},
   "source": [
    "# Conditionals"
   ]
  },
  {
   "cell_type": "markdown",
   "metadata": {},
   "source": [
    "There are two things about Python conditionals that might be weird to you:\n",
    "\n",
    "- Parenthesis are not required\n",
    "- `else if` is shortened to `elif`"
   ]
  },
  {
   "cell_type": "code",
   "execution_count": 13,
   "metadata": {},
   "outputs": [
    {
     "name": "stdout",
     "output_type": "stream",
     "text": [
      "Not equal\n"
     ]
    }
   ],
   "source": [
    "condition_0 = True\n",
    "condition_1 = False\n",
    "if condition_0 and condition_1:\n",
    "    print('Equal, valued True')\n",
    "elif not condition_0 and not condition_1:\n",
    "    print('Equal, valued False')\n",
    "else:\n",
    "    print('Not equal')"
   ]
  },
  {
   "cell_type": "markdown",
   "metadata": {},
   "source": [
    "# Iterables"
   ]
  },
  {
   "cell_type": "markdown",
   "metadata": {},
   "source": [
    "Iterables are a group of built-in variable types that can be iterated over, hence the name \"iterables\". There are 3 main types of iterables:\n",
    "\n",
    "- Lists (defined by `[]`)\n",
    "- Tuples (defined by `()`)\n",
    "- Strings (defined by `''` or `\"\"`)\n",
    "\n",
    "We'll go into each one in depth in this section, but there are a few common properties between them, which will be explained here.\n",
    "\n",
    "Firstly, there is a standard way to access a specific element (or subset of elements). Using the `[]` operator, we can get a single element, or a set of elements from an iterable. Iterables are 0-indexed. Below is an example of indexing a list:"
   ]
  },
  {
   "cell_type": "code",
   "execution_count": 2,
   "metadata": {},
   "outputs": [
    {
     "name": "stdout",
     "output_type": "stream",
     "text": [
      "3\n"
     ]
    }
   ],
   "source": [
    "l = [1, 2, 3, 4, 5]\n",
    "print(l[2])"
   ]
  },
  {
   "cell_type": "markdown",
   "metadata": {},
   "source": [
    "There are two funky things we can do with `[]`. We can use negative indicies to go backwards through the list"
   ]
  },
  {
   "cell_type": "code",
   "execution_count": 3,
   "metadata": {},
   "outputs": [
    {
     "name": "stdout",
     "output_type": "stream",
     "text": [
      "4\n"
     ]
    }
   ],
   "source": [
    "print(l[-2])  # note that when going backwards, the last element has an index of -1"
   ]
  },
  {
   "cell_type": "markdown",
   "metadata": {},
   "source": [
    "We can also get a subset of a list (or a substring), called a slice, by specifying endpoints within the square brackets with a `:` as a separator. The first number is the inclusive starting point, and the last number is the exclusive endpoint. You also don't need to specify endpoints, which means that bound is the beginning or end of the list, depending on which endpoint is excluded. Try some different (try negative!) values to get a feel for how this works"
   ]
  },
  {
   "cell_type": "code",
   "execution_count": 5,
   "metadata": {},
   "outputs": [
    {
     "name": "stdout",
     "output_type": "stream",
     "text": [
      "[2, 3]\n",
      "[2, 3, 4, 5]\n",
      "[1, 2, 3]\n",
      "[1, 2, 3, 4, 5]\n",
      "[2, 3]\n"
     ]
    }
   ],
   "source": [
    "print(l[1:3])\n",
    "print(l[1:])\n",
    "print(l[:3])\n",
    "print(l[:])\n",
    "print(l[1:-2])"
   ]
  },
  {
   "cell_type": "markdown",
   "metadata": {},
   "source": [
    "You can get the length of an iterable with the `len()` function"
   ]
  },
  {
   "cell_type": "code",
   "execution_count": 17,
   "metadata": {},
   "outputs": [
    {
     "name": "stdout",
     "output_type": "stream",
     "text": [
      "12\n",
      "4\n"
     ]
    }
   ],
   "source": [
    "print(len('hello world!'))\n",
    "print(len((1, 2, 3, 4)))"
   ]
  },
  {
   "cell_type": "markdown",
   "metadata": {},
   "source": [
    "You can easily find out if an element exists in an iterable with the `in` keyword"
   ]
  },
  {
   "cell_type": "code",
   "execution_count": 18,
   "metadata": {},
   "outputs": [
    {
     "name": "stdout",
     "output_type": "stream",
     "text": [
      "False\n",
      "True\n"
     ]
    }
   ],
   "source": [
    "l = [1, 2, 3, 4]\n",
    "print(0 in l)\n",
    "print(1 in l)"
   ]
  },
  {
   "cell_type": "markdown",
   "metadata": {},
   "source": [
    "All iterables can be unpacked into multiple variables, like this:"
   ]
  },
  {
   "cell_type": "code",
   "execution_count": 19,
   "metadata": {},
   "outputs": [
    {
     "name": "stdout",
     "output_type": "stream",
     "text": [
      "1 2 3 4 5\n"
     ]
    }
   ],
   "source": [
    "iterable = [1, 2, 3, 4, 5]\n",
    "a, b, c, d, e = iterable\n",
    "print(a, b, c, d, e)"
   ]
  },
  {
   "cell_type": "markdown",
   "metadata": {},
   "source": [
    "Unrelated to iterables, but a cool trick to know anyways, is this:"
   ]
  },
  {
   "cell_type": "code",
   "execution_count": 20,
   "metadata": {},
   "outputs": [
    {
     "name": "stdout",
     "output_type": "stream",
     "text": [
      "3 2\n"
     ]
    }
   ],
   "source": [
    "a = 2\n",
    "b = 3\n",
    "a, b = b, a\n",
    "print(a, b)"
   ]
  },
  {
   "cell_type": "markdown",
   "metadata": {},
   "source": [
    "## Lists"
   ]
  },
  {
   "cell_type": "markdown",
   "metadata": {},
   "source": [
    "Python lists are essentially arrays, just implemented as hash tables (pretty much everything in Python is a hash table). This means they have a dynamic length, but it takes longer to access elements than in a typical array. If you're looking for \"real\" arrays, I recommend [the numpy module](https://pypi.org/project/numpy/). Lists can also contain any data type, including a mix of multiple data types. Below is an example of how to access an element in a list"
   ]
  },
  {
   "cell_type": "code",
   "execution_count": 21,
   "metadata": {},
   "outputs": [
    {
     "name": "stdout",
     "output_type": "stream",
     "text": [
      "2\n",
      "4\n"
     ]
    }
   ],
   "source": [
    "numbers = [0, 1, 2, 3]\n",
    "\n",
    "print(numbers[2])\n",
    "numbers[2] *= 2\n",
    "print(numbers[2])"
   ]
  },
  {
   "cell_type": "markdown",
   "metadata": {},
   "source": [
    "There are a lot of list methods, but here are a few of the most useful:"
   ]
  },
  {
   "cell_type": "code",
   "execution_count": 2,
   "metadata": {},
   "outputs": [
    {
     "name": "stdout",
     "output_type": "stream",
     "text": [
      "[0, 1, 2, 3, 0]\n",
      "[0, 1, 2, 3, 0, 1, 2, 3]\n",
      "[0, 1, 2, 5, 3, 0, 1, 2, 3]\n",
      "[1, 2, 5, 3, 0, 1, 2, 3]\n",
      "[1, 2, 3, 0, 1, 2]\n",
      "0\n",
      "4\n"
     ]
    }
   ],
   "source": [
    "numbers = [0, 1, 2, 3]\n",
    "\n",
    "numbers.append(0)  # adds an element to the end of the list\n",
    "print(numbers)\n",
    "\n",
    "numbers.extend([1, 2, 3])  # adds each element of another iterable to the end of the list\n",
    "                           # using append() would add the parameter list as an element, not each element individually\n",
    "print(numbers)\n",
    "\n",
    "numbers.insert(3, 5)  # inserts 5 at index 3\n",
    "print(numbers)\n",
    "\n",
    "numbers.remove(0)  # removes the first occurance of 0\n",
    "print(numbers)\n",
    "\n",
    "numbers.pop()  # the counterpart to append, removes the last element\n",
    "numbers.pop(2)  # removes the element at index 3\n",
    "print(numbers)\n",
    "\n",
    "print(numbers.index(1))  # returns the index of the first occurance of 1\n",
    "print(numbers.index(1, 2))  # returns the index of the first occurance of 1 after index 2"
   ]
  },
  {
   "cell_type": "code",
   "execution_count": 1,
   "metadata": {},
   "outputs": [
    {
     "name": "stdout",
     "output_type": "stream",
     "text": [
      "1\n",
      "[0, 1, 2, 3]\n",
      "[3, 2, 1, 0]\n",
      "[3, 2, 1, 0]\n",
      "[]\n"
     ]
    }
   ],
   "source": [
    "numbers = [0, 1, 2, 3]\n",
    "print(numbers.count(1))  # returns the number of times 1 occurs in the lis\n",
    "\n",
    "numbers.sort()  # sorts the list. Uses the Timsort algorithm\n",
    "print(numbers)\n",
    "\n",
    "numbers.reverse()  # reverses the order of the list\n",
    "print(numbers)\n",
    "\n",
    "clone = numbers.copy()  # returns a copy of the list\n",
    "print(clone)\n",
    "\n",
    "numbers.clear()  # empties the list\n",
    "print(numbers)"
   ]
  },
  {
   "cell_type": "markdown",
   "metadata": {},
   "source": [
    "## Tuples"
   ]
  },
  {
   "cell_type": "markdown",
   "metadata": {},
   "source": [
    "Tuples are just immutable lists, meaning you can write to them on creation, and that's it. If you want to edit an element, you need to remake the tuple. Tuples have just one relevant method."
   ]
  },
  {
   "cell_type": "code",
   "execution_count": 24,
   "metadata": {},
   "outputs": [
    {
     "name": "stdout",
     "output_type": "stream",
     "text": [
      "1\n",
      "2\n"
     ]
    }
   ],
   "source": [
    "tup = (1, 2, 1)\n",
    "print(tup[0])\n",
    "print(tup.count(1))"
   ]
  },
  {
   "cell_type": "markdown",
   "metadata": {},
   "source": [
    "## Strings"
   ]
  },
  {
   "cell_type": "markdown",
   "metadata": {},
   "source": [
    "Strings are fundamentally just lists of characters with some extra metadata. Characters do not exist in Python. Instead, just use strings with a single character (length 1). They can be indexed like lists:"
   ]
  },
  {
   "cell_type": "code",
   "execution_count": 25,
   "metadata": {},
   "outputs": [
    {
     "name": "stdout",
     "output_type": "stream",
     "text": [
      "C\n",
      "Follow\n",
      "GitHub\n",
      "CodingPenguin1\n"
     ]
    }
   ],
   "source": [
    "s = 'Follow CodingPenguin1 on GitHub'\n",
    "print(s[7])\n",
    "print(s[:6])\n",
    "print(s[25:])\n",
    "print(s[7:21])"
   ]
  },
  {
   "cell_type": "markdown",
   "metadata": {},
   "source": [
    "There are a ton of useful string methods. I'm not going to take the time to go through them all here, but check out [this page](https://www.w3schools.com/python/python_ref_string.asp) to learn more about them."
   ]
  },
  {
   "cell_type": "markdown",
   "metadata": {},
   "source": [
    "You can use the `in` keyword to check if a character is in a string, or if a substring is in a string"
   ]
  },
  {
   "cell_type": "code",
   "execution_count": 26,
   "metadata": {},
   "outputs": [
    {
     "data": {
      "text/plain": [
       "True"
      ]
     },
     "execution_count": 26,
     "metadata": {},
     "output_type": "execute_result"
    }
   ],
   "source": [
    "'Coding' in s"
   ]
  },
  {
   "cell_type": "markdown",
   "metadata": {},
   "source": [
    "One cool trick with strings is called \"f-strings,\" or formatted strings. Basically, by throwing an `f` at the beginning of a string definition, you can use `{}` to automatically string-cast and insert variables into the string definition"
   ]
  },
  {
   "cell_type": "code",
   "execution_count": 27,
   "metadata": {},
   "outputs": [
    {
     "name": "stdout",
     "output_type": "stream",
     "text": [
      "The value of var is 1\n"
     ]
    }
   ],
   "source": [
    "var = 1\n",
    "string = f'The value of var is {var}'\n",
    "print(string)"
   ]
  },
  {
   "cell_type": "markdown",
   "metadata": {},
   "source": [
    "## Loops"
   ]
  },
  {
   "cell_type": "markdown",
   "metadata": {},
   "source": [
    "There are two kinds of loops in Python. While loops are the more simple of the two, and repeat a block of code until their condition is false"
   ]
  },
  {
   "cell_type": "code",
   "execution_count": 28,
   "metadata": {},
   "outputs": [
    {
     "name": "stdout",
     "output_type": "stream",
     "text": [
      "5\n"
     ]
    }
   ],
   "source": [
    "i = 1\n",
    "while i % 5:\n",
    "    i += 1\n",
    "print(i)"
   ]
  },
  {
   "cell_type": "markdown",
   "metadata": {},
   "source": [
    "For loops are a little more complex. They allow you to iterate over an iterable, where the control variable changes values to each element in the iterable as the loop continues."
   ]
  },
  {
   "cell_type": "code",
   "execution_count": 29,
   "metadata": {},
   "outputs": [
    {
     "name": "stdout",
     "output_type": "stream",
     "text": [
      "4\n",
      "1\n",
      "5\n",
      "6\n",
      "9\n",
      "3\n",
      "7\n"
     ]
    }
   ],
   "source": [
    "l = [4, 1, 5, 6, 9, 3, 7]\n",
    "for element in l:\n",
    "    print(element)"
   ]
  },
  {
   "cell_type": "markdown",
   "metadata": {},
   "source": [
    "So how do we do a normal for loop, counting up from 0?\n",
    "\n",
    "The `range()` function can be used to easily generate a sequence of a repeating pattern of numbers. There are three combinations of parameters it takes. All parameters are ints\n",
    "\n",
    "```py\n",
    "range(STOP)              # range of [0, 1, 2, ..., STOP-1]\n",
    "range(START, STOP)       # range of [START, START+1, ..., STOP-1]\n",
    "range(START, STOP, INC)  # range of [START, START+INC, ... (stops at max value of n*(START+INC) that is < STOP\n",
    "```\n",
    "\n",
    "Try some values below. The syntax is a little weird, but not too complicated. The `range()` function does not return a list or tuple, but a range object. The range object can be iterated over, just like iterables, though it itself is not considered an iterable, since this is the only property it shares with other iterables."
   ]
  },
  {
   "cell_type": "code",
   "execution_count": 30,
   "metadata": {},
   "outputs": [
    {
     "name": "stdout",
     "output_type": "stream",
     "text": [
      "0\n",
      "1\n",
      "2\n",
      "3\n",
      "4\n"
     ]
    }
   ],
   "source": [
    "for i in range(5):\n",
    "    print(i)"
   ]
  },
  {
   "cell_type": "markdown",
   "metadata": {},
   "source": [
    "We can also use `range()` and for loops to generate lists in-line with the variable declaration"
   ]
  },
  {
   "cell_type": "code",
   "execution_count": 31,
   "metadata": {},
   "outputs": [
    {
     "name": "stdout",
     "output_type": "stream",
     "text": [
      "[1, 4, 7]\n"
     ]
    }
   ],
   "source": [
    "l = [i for i in range(1, 10, 3)]\n",
    "print(l)"
   ]
  },
  {
   "cell_type": "markdown",
   "metadata": {},
   "source": [
    "You can break out of a loop at any time with the `break` keyword"
   ]
  },
  {
   "cell_type": "code",
   "execution_count": 32,
   "metadata": {},
   "outputs": [
    {
     "name": "stdout",
     "output_type": "stream",
     "text": [
      "0\n",
      "1\n",
      "2\n",
      "3\n",
      "4\n",
      "5\n",
      "6\n"
     ]
    }
   ],
   "source": [
    "for i in range(10):\n",
    "    print(i)\n",
    "    if i > 5:\n",
    "        break"
   ]
  },
  {
   "cell_type": "markdown",
   "metadata": {},
   "source": [
    "# Dictionaries"
   ]
  },
  {
   "cell_type": "markdown",
   "metadata": {},
   "source": [
    "Dictionaries are the data structure called hash tables. Think of them like arrays, except elements are indexed by strings and are unordered. These index strings are called \"keys\" and are unique within the set of keys in a particular dictionary, and each key only points to one element (though that element can be an iterable). You can define a dictionary like this:"
   ]
  },
  {
   "cell_type": "code",
   "execution_count": 33,
   "metadata": {},
   "outputs": [],
   "source": [
    "empty_dictionary = {}\n",
    "filled_dictionary = {'key_a': 'element_a', 'key_b': 2}"
   ]
  },
  {
   "cell_type": "markdown",
   "metadata": {},
   "source": [
    "You can access elements like you would an iterable, just with the key string instead of the index number"
   ]
  },
  {
   "cell_type": "code",
   "execution_count": 34,
   "metadata": {},
   "outputs": [
    {
     "name": "stdout",
     "output_type": "stream",
     "text": [
      "element_a\n",
      "1\n"
     ]
    }
   ],
   "source": [
    "dictionary = {'key_a': 'element_a', 'key_b': 2}\n",
    "print(dictionary['key_a'])\n",
    "dictionary['key_a'] = 1\n",
    "print(dictionary['key_a'])"
   ]
  },
  {
   "cell_type": "markdown",
   "metadata": {},
   "source": [
    "You can add elements to a dictionary by indexing by a key that isn't in the dictionary's set of keys"
   ]
  },
  {
   "cell_type": "code",
   "execution_count": 35,
   "metadata": {},
   "outputs": [
    {
     "name": "stdout",
     "output_type": "stream",
     "text": [
      "{'key_a': 1, 'key_b': 2}\n",
      "{'key_a': 1, 'key_b': 2, 'key_c': 'New element'}\n"
     ]
    }
   ],
   "source": [
    "dictionary = {'key_a': 1, 'key_b': 2}\n",
    "print(dictionary)\n",
    "dictionary['key_c'] = 'New element'\n",
    "print(dictionary)"
   ]
  },
  {
   "cell_type": "markdown",
   "metadata": {},
   "source": [
    "Dictionaries have a few useful methods, which you can find [here](https://www.w3schools.com/python/python_ref_dictionary.asp). The most notable method is the `keys()` method, which returns a list of strings containing all the keys in the dictionary."
   ]
  },
  {
   "cell_type": "markdown",
   "metadata": {},
   "source": [
    "# Classes"
   ]
  },
  {
   "cell_type": "markdown",
   "metadata": {},
   "source": [
    "Python supports all sorts of programming schemes, including object-oriented. I won't go too in-depth here, but I'll give you the basics on how to make and use a class. Classes in Python only have one constructor, due to how loose the requirements of specific variable types are in Python. Below is the basic structure of a class."
   ]
  },
  {
   "cell_type": "code",
   "execution_count": 36,
   "metadata": {},
   "outputs": [
    {
     "name": "stdout",
     "output_type": "stream",
     "text": [
      "1 + 2 = 3\n"
     ]
    }
   ],
   "source": [
    "class ClassName:\n",
    "    def __init__(self, val_a, val_b=2):\n",
    "        self.a = val_a\n",
    "        self.b = val_b\n",
    "        self.c = None\n",
    "    \n",
    "    def sum(self):\n",
    "        self.c = self.a + self.b\n",
    "    \n",
    "    def __str__(self):\n",
    "        return f'{self.a} + {self.b} = {self.c}'\n",
    "    \n",
    "    \n",
    "my_object = ClassName(1)\n",
    "my_object.sum()\n",
    "print(my_object)"
   ]
  },
  {
   "cell_type": "markdown",
   "metadata": {},
   "source": [
    "It's a lot to take in, I know. Let me break it down.\n",
    "\n",
    "```py\n",
    "class ClassName:\n",
    "```\n",
    "should be pretty self-explanatory. Our class is called `ClassName`. You can also do `class ClassName(SuperClass):` to make `ClassName` a child class of `SuperClass`.\n",
    "\n",
    "```py\n",
    "def __init__(self, val_a, val_b=2):\n",
    "    self.a = val_a\n",
    "    self.b = val_b\n",
    "    self.c = None\n",
    "```\n",
    "This is our constructor. We have a required parameter `val_a` and an optional parameter `val_b`, that defaults to `2` if not specified. This means we can have a constructor that takes either 1 or 2 parameters (see the line `my_object = ClassName(1)`). The double underscores on either side of `__init__` mean that the method name is reserved for a special purpose, like a constructor. Note that the `__str__` method has the same thing. The first parameter of `__init__()` must always be `self`. The `self` keyword is equivalent to `this` in C++ and Java, it refers to the object instantiated by this class. Note that `self.c` initializes to `None`, which is equivalent to `Null` in other languages.\n",
    "\n",
    "```py\n",
    "def sum(self):\n",
    "    self.c = self.a + self.b\n",
    "```\n",
    "This just sets a property of the object. You could make it return something to make it a getter method. Think of something like `airplane.get_heading()`. Like the constructor, any method of a class must take `self` as the first property to make it part of the class. This also allows us to reference properties of the object the method is acting on, like we do in `sum()`.\n",
    "\n",
    "```py\n",
    "def __str__(self):\n",
    "    return f'{self.a} + {self.b} = {self.c}'\n",
    "```\n",
    "The `__str__()` method is a reserved method name that we can overload. It must return a string, and it is called whenever the object is printed. This lets us customize what gets printed, either for debugging or other purposes."
   ]
  },
  {
   "cell_type": "markdown",
   "metadata": {},
   "source": [
    "# Modules"
   ]
  },
  {
   "cell_type": "markdown",
   "metadata": {},
   "source": [
    "Python is frankly a useless toy of a language. That is, until you consider the extensibility it has. With the groundwork we've just laid, we have created a foundation that can be built upon with ease. This is where modules come in, Python's special sauce that makes it my favorite language to program in. Modules are simply other Python scripts that can be imported into your code to add functionality. Modules can be a quick script you write to break up a long program into multiple files, or they can be multi-thousand behemoths of code written by a community of Pythonistas (yes, that's what we're called) to let you do machine learning ([Tensorflow](https://www.tensorflow.org/) is pretty cool)"
   ]
  },
  {
   "cell_type": "markdown",
   "metadata": {},
   "source": [
    "## Built-in Modules"
   ]
  },
  {
   "cell_type": "markdown",
   "metadata": {},
   "source": [
    "The creators of Python knew that there would be some functionality that would be useful frequently enough that it should be included in base Python, but infrequently enough that it could get in the way if it were to be included all the time. Built-in modules are designed to help solve this problem. There's too much to go into here, but I'll point out a few of my favorites and link you to the documentation for you to explore."
   ]
  },
  {
   "cell_type": "markdown",
   "metadata": {},
   "source": [
    "[The random module](https://docs.python.org/3/library/random.html) lets you generate random numbers, generate sequences, and much more. I most use the `randint()` function:"
   ]
  },
  {
   "cell_type": "code",
   "execution_count": 37,
   "metadata": {},
   "outputs": [
    {
     "name": "stdout",
     "output_type": "stream",
     "text": [
      "3\n",
      "4\n",
      "2\n"
     ]
    }
   ],
   "source": [
    "import random\n",
    "from random import randint  # You can use this syntax to just import one function from a module\n",
    "from random import *  # You can do this to import all functions into the current namespace,\n",
    "                      # which means you don't have to do something like `random.randint()`\n",
    "    \n",
    "print(randint(1, 10))\n",
    "print(randint(1, 10))\n",
    "print(randint(1, 10))"
   ]
  },
  {
   "cell_type": "markdown",
   "metadata": {},
   "source": [
    "[The argparse module](https://docs.python.org/3/library/argparse.html) lets you set up flags for your program, as well as automatically generate a help page. I won't show code here, since Jupyter Notebook doesn't really allow for CLI args"
   ]
  },
  {
   "cell_type": "markdown",
   "metadata": {},
   "source": [
    "[The multiprocessing module](https://docs.python.org/3/library/multiprocessing.html) lets you split up a long computation task really easily. [Corey Schafer](https://www.youtube.com/channel/UCCezIgC97PvUuR4_gbFUs5g) has a really good tutorial on it (and the different, but related [https://docs.python.org/3/library/threading.html](https://docs.python.org/3/library/threading.html) module). I recommend checking them out if you're into this sort of thing\n",
    "\n",
    "[Multiprocessing tutorial](https://www.youtube.com/watch?v=fKl2JW_qrso)\n",
    "[Threading tutorial](https://www.youtube.com/watch?v=IEEhzQoKtQU)\n",
    "\n",
    "Here's an example of how much you can speed up certain math-y functions with multiprocessing (using the [time](https://docs.python.org/3/library/time.html) module). There's a better way to do it, but Corey goes over that in his multiprocessing tutorial, so I won't go over it here."
   ]
  },
  {
   "cell_type": "code",
   "execution_count": 38,
   "metadata": {},
   "outputs": [
    {
     "name": "stdout",
     "output_type": "stream",
     "text": [
      "Sleeping 1 second...\n",
      "Done sleeping...\n",
      "Sleeping 1 second...\n",
      "Done sleeping...\n",
      "Finished (serial) in 2.0 second(s)\n",
      "\n",
      "Sleeping 1 second...\n",
      "Sleeping 1 second...\n",
      "Done sleeping...\n",
      "Done sleeping...\n",
      "Finished (parallel) in 1.01 second(s)\n",
      "\n"
     ]
    }
   ],
   "source": [
    "import multiprocessing\n",
    "import time\n",
    "\n",
    "def do_something():\n",
    "    print('Sleeping 1 second...')\n",
    "    time.sleep(1)\n",
    "    print('Done sleeping...')\n",
    "\n",
    "\n",
    "# Running in serial\n",
    "start = time.perf_counter()\n",
    "do_something()\n",
    "do_something()\n",
    "finish = time.perf_counter()\n",
    "print(f'Finished (serial) in {round(finish - start, 2)} second(s)', end='\\n\\n')\n",
    "\n",
    "# Running in parallel\n",
    "start = time.perf_counter()\n",
    "p1 = multiprocessing.Process(target=do_something)\n",
    "p2 = multiprocessing.Process(target=do_something)\n",
    "p1.start()\n",
    "p2.start()\n",
    "p1.join()\n",
    "p2.join()\n",
    "finish = time.perf_counter()\n",
    "print(f'Finished (parallel) in {round(finish - start, 2)} second(s)', end='\\n\\n')"
   ]
  },
  {
   "cell_type": "markdown",
   "metadata": {},
   "source": [
    "## External Modules"
   ]
  },
  {
   "cell_type": "markdown",
   "metadata": {},
   "source": [
    "There are thousands of people writing modules for Python. You can install them from [PyPI](https://pypi.org/). If you installed Anaconda earlier, you'll already have a lot of the big ones, such as NumPy, MatPlotLib, and PIL already installed. Just to show how people can and will do literally anything with Python, here's some of the hottest moduels at the time of writing:\n",
    "\n",
    "![Popular Python Modules](popular_python_modules.png)\n",
    "\n",
    "All you need to do to use any of these modules is install them and import them, just like you would a built-in module!"
   ]
  },
  {
   "cell_type": "markdown",
   "metadata": {},
   "source": [
    "# Other Notes"
   ]
  },
  {
   "cell_type": "markdown",
   "metadata": {},
   "source": [
    "While Python has a pretty short list of reserved keywords, there are a few words you can't use for variable/function/method/whatever names:\n",
    "\n",
    "```\n",
    "and\n",
    "as\n",
    "assert\n",
    "break\n",
    "class\n",
    "continue\n",
    "def\n",
    "del\n",
    "elif\n",
    "else\n",
    "except\n",
    "finally\n",
    "False\n",
    "for\n",
    "from\n",
    "global\n",
    "if\n",
    "import\n",
    "in\n",
    "is\n",
    "lambda\n",
    "nonlocal\n",
    "None\n",
    "not\n",
    "or\n",
    "pass\n",
    "raise\n",
    "return\n",
    "True\n",
    "try\n",
    "with\n",
    "while\n",
    "yield\n",
    "```\n",
    "\n",
    "You'll see some words in that list I didn't cover. There's a lot Python can do. People write books on this. While I _am_ getting paid to write this guide, I am _not_ getting paid to write yet another introduction to Python book. If you're interested in learning more, I recommend [this book](https://www.amazon.com/Python-Pocket-Reference-Your-OReilly/dp/1449357016/ref=as_li_ss_tl?tag=guru990f-20&ie=UTF8&linkId=e5cc92d5f85a10b7c7d6a1a15bb368c9&geniuslink=true), or to do as I did and come up with projects and Google how to do them. The internet is a _very_ powerful tool, especially when it comes to learning programming.\n",
    "\n",
    "If you have any questions about this guide, or want me to add something to this guide, make an issue on [the original GitHub repository](https://github.com/cse-devteam/Programmers-Guide-to-the-Galaxy/issues) or email me at ryan.j.slater.2@gmail.com!"
   ]
  }
 ],
 "metadata": {
  "kernelspec": {
   "display_name": "Python 3",
   "language": "python",
   "name": "python3"
  },
  "language_info": {
   "codemirror_mode": {
    "name": "ipython",
    "version": 3
   },
   "file_extension": ".py",
   "mimetype": "text/x-python",
   "name": "python",
   "nbconvert_exporter": "python",
   "pygments_lexer": "ipython3",
   "version": "3.6.9"
  }
 },
 "nbformat": 4,
 "nbformat_minor": 4
}
